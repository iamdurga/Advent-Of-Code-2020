{
 "cells": [
  {
   "cell_type": "markdown",
   "metadata": {},
   "source": [
    "# Day 1\n",
    "[Challenge link](https://adventofcode.com/2020/day/1)"
   ]
  },
  {
   "cell_type": "code",
   "execution_count": 1,
   "metadata": {
    "ExecuteTime": {
     "end_time": "2021-01-09T03:02:14.357764Z",
     "start_time": "2021-01-09T03:02:14.328739Z"
    }
   },
   "outputs": [],
   "source": [
    "data_dir = \"Data/\""
   ]
  },
  {
   "cell_type": "code",
   "execution_count": 11,
   "metadata": {
    "ExecuteTime": {
     "end_time": "2021-01-09T03:23:47.409039Z",
     "start_time": "2021-01-09T03:23:47.399029Z"
    }
   },
   "outputs": [],
   "source": [
    "import re\n",
    "day1 = open(data_dir+\"day1_test.txt\").read()\n",
    "nums = [int(i) for i in re.findall(r\"[0-9]+\", day1)]\n"
   ]
  },
  {
   "cell_type": "code",
   "execution_count": 55,
   "metadata": {
    "ExecuteTime": {
     "end_time": "2021-01-09T04:38:05.811460Z",
     "start_time": "2021-01-09T04:38:05.801453Z"
    }
   },
   "outputs": [
    {
     "name": "stdout",
     "output_type": "stream",
     "text": [
      "Two numbers that sum to 2020 are 299 and 1721. Their product is 514579\n"
     ]
    }
   ],
   "source": [
    "sol = []\n",
    "for num in nums:\n",
    "    if 2020-num in nums:\n",
    "        sol.append((2020-num, num))\n",
    "sol = sol[0]\n",
    "print(f\"Two numbers that sum to 2020 are {sol[0]} and {sol[1]}. Their product is {sol[0]*sol[1]}\")"
   ]
  },
  {
   "cell_type": "code",
   "execution_count": 56,
   "metadata": {
    "ExecuteTime": {
     "end_time": "2021-01-09T04:39:22.310168Z",
     "start_time": "2021-01-09T04:39:22.232118Z"
    }
   },
   "outputs": [
    {
     "name": "stdout",
     "output_type": "stream",
     "text": [
      "Two numbers that sum to 2020 are 252 and 1768. Their product is 445536\n"
     ]
    }
   ],
   "source": [
    "def solve_day1_part1(filename=\"day1_test.txt\", data_dir = \"Data/\"):\n",
    "    day1 = open(data_dir+filename).read()\n",
    "    nums = [int(i) for i in re.findall(r\"[0-9]+\", day1)]\n",
    "    \n",
    "    sol = []\n",
    "    for num in nums:\n",
    "        if 2020-num in nums:\n",
    "            sol.append((2020-num, num))\n",
    "    sol = sol[0]\n",
    "    print(f\"Two numbers that sum to 2020 are {sol[0]} and {sol[1]}. Their product is {sol[0]*sol[1]}\")\n",
    "solve_day1_part1(filename=\"day1.txt\")\n",
    "    \n"
   ]
  },
  {
   "cell_type": "code",
   "execution_count": 25,
   "metadata": {
    "ExecuteTime": {
     "end_time": "2021-01-09T03:39:29.639507Z",
     "start_time": "2021-01-09T03:39:29.619493Z"
    }
   },
   "outputs": [
    {
     "name": "stdout",
     "output_type": "stream",
     "text": [
      "[[979, 366, 675], [979, 675, 366], [366, 979, 675], [366, 675, 979]]\n",
      "Three numbers that sum to 2020 are 979, 366 and 675. Their product is 241861950\n"
     ]
    }
   ],
   "source": [
    "def solve_day1_part2(filename=\"day1_test.txt\", data_dir = \"Data/\"):\n",
    "    day1 = open(data_dir+filename).read()\n",
    "    nums = [int(i) for i in re.findall(r\"[0-9]+\", day1)]\n",
    "    \n",
    "    sol = []\n",
    "    for num1 in nums[:-2]:\n",
    "        for num2 in nums[1:]:\n",
    "            if 2020-num1-num2 in nums:\n",
    "                sol.append([num1, num2, 2020-num1-num2])\n",
    "    print(sol)\n",
    "    sol=sol[0]\n",
    "    print(f\"Three numbers that sum to 2020 are {sol[0]}, {sol[1]} and {sol[2]}. Their product is {sol[0]*sol[1]*sol[2]}\")\n",
    "solve_day1_part2(filename=\"day1_test.txt\")\n",
    "    \n"
   ]
  },
  {
   "cell_type": "code",
   "execution_count": 48,
   "metadata": {
    "ExecuteTime": {
     "end_time": "2021-01-09T03:52:12.730708Z",
     "start_time": "2021-01-09T03:52:06.799666Z"
    }
   },
   "outputs": [
    {
     "name": "stdout",
     "output_type": "stream",
     "text": [
      "6.28 µs ± 189 ns per loop (mean ± std. dev. of 7 runs, 100000 loops each)\n"
     ]
    }
   ],
   "source": [
    "# bubble sort\n",
    "l1 = [2, 1, 4, 3, 5, 0]\n",
    "s1=l1.copy()\n",
    "def sort(l1):\n",
    "    for i in range(len(l1)-1):\n",
    "        for j in range(len(l1)-i-1):\n",
    "            if l1[j]>l1[j+1]:\n",
    "                l1[j], l1[j+1] = l1[j+1], l1[j]\n",
    "    return l1\n",
    "%timeit sort(l1)"
   ]
  },
  {
   "cell_type": "markdown",
   "metadata": {},
   "source": [
    "* Frecodecampe\n",
    "* Coursera\n",
    "* Advent of Code: Day 2\n",
    "* "
   ]
  }
 ],
 "metadata": {
  "kernelspec": {
   "display_name": "Python 3",
   "language": "python",
   "name": "python3"
  },
  "language_info": {
   "codemirror_mode": {
    "name": "ipython",
    "version": 3
   },
   "file_extension": ".py",
   "mimetype": "text/x-python",
   "name": "python",
   "nbconvert_exporter": "python",
   "pygments_lexer": "ipython3",
   "version": "3.7.3"
  },
  "latex_envs": {
   "LaTeX_envs_menu_present": true,
   "autoclose": false,
   "autocomplete": true,
   "bibliofile": "biblio.bib",
   "cite_by": "apalike",
   "current_citInitial": 1,
   "eqLabelWithNumbers": true,
   "eqNumInitial": 1,
   "hotkeys": {
    "equation": "Ctrl-E",
    "itemize": "Ctrl-I"
   },
   "labels_anchors": false,
   "latex_user_defs": false,
   "report_style_numbering": false,
   "user_envs_cfg": false
  }
 },
 "nbformat": 4,
 "nbformat_minor": 2
}
