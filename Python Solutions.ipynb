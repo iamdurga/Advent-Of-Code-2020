{
 "cells": [
  {
   "cell_type": "markdown",
   "metadata": {},
   "source": [
    "# Day 1"
   ]
  },
  {
   "cell_type": "code",
   "execution_count": 1,
   "metadata": {
    "ExecuteTime": {
     "end_time": "2021-01-09T03:02:14.357764Z",
     "start_time": "2021-01-09T03:02:14.328739Z"
    }
   },
   "outputs": [],
   "source": [
    "data_dir = \"Data/\""
   ]
  },
  {
   "cell_type": "code",
   "execution_count": 11,
   "metadata": {
    "ExecuteTime": {
     "end_time": "2021-01-09T03:23:47.409039Z",
     "start_time": "2021-01-09T03:23:47.399029Z"
    }
   },
   "outputs": [],
   "source": [
    "import re\n",
    "day1 = open(data_dir+\"day1_test.txt\").read()\n",
    "nums = [int(i) for i in re.findall(r\"[0-9]+\", day1)]\n"
   ]
  },
  {
   "cell_type": "code",
   "execution_count": 13,
   "metadata": {
    "ExecuteTime": {
     "end_time": "2021-01-09T03:26:38.466837Z",
     "start_time": "2021-01-09T03:26:38.446822Z"
    }
   },
   "outputs": [
    {
     "name": "stdout",
     "output_type": "stream",
     "text": [
      "Two numbers that sum to 2020 are 1721 and 299. Their product is 514579\n"
     ]
    }
   ],
   "source": [
    "sol = []\n",
    "for num in nums:\n",
    "    if 2020-num in nums:\n",
    "        sol.append(num)\n",
    "print(f\"Two numbers that sum to 2020 are {sol[0]} and {sol[1]}. Their product is {sol[0]*sol[1]}\")"
   ]
  },
  {
   "cell_type": "code",
   "execution_count": 16,
   "metadata": {
    "ExecuteTime": {
     "end_time": "2021-01-09T03:30:49.654368Z",
     "start_time": "2021-01-09T03:30:49.635355Z"
    }
   },
   "outputs": [
    {
     "name": "stdout",
     "output_type": "stream",
     "text": [
      "Two numbers that sum to 2020 are 1768 and 252. Their product is 445536\n"
     ]
    }
   ],
   "source": [
    "def solve_day1_part1(filename=\"day1_test.txt\", data_dir = \"Data/\"):\n",
    "    day1 = open(data_dir+filename).read()\n",
    "    nums = [int(i) for i in re.findall(r\"[0-9]+\", day1)]\n",
    "    \n",
    "    sol = []\n",
    "    for num in nums:\n",
    "        if 2020-num in nums:\n",
    "            sol.append(num)\n",
    "    print(f\"Two numbers that sum to 2020 are {sol[0]} and {sol[1]}. Their product is {sol[0]*sol[1]}\")\n",
    "solve_day1_part1(filename=\"day1.txt\")\n",
    "    \n"
   ]
  },
  {
   "cell_type": "code",
   "execution_count": 25,
   "metadata": {
    "ExecuteTime": {
     "end_time": "2021-01-09T03:39:29.639507Z",
     "start_time": "2021-01-09T03:39:29.619493Z"
    }
   },
   "outputs": [
    {
     "name": "stdout",
     "output_type": "stream",
     "text": [
      "[[979, 366, 675], [979, 675, 366], [366, 979, 675], [366, 675, 979]]\n",
      "Three numbers that sum to 2020 are 979, 366 and 675. Their product is 241861950\n"
     ]
    }
   ],
   "source": [
    "def solve_day1_part2(filename=\"day1_test.txt\", data_dir = \"Data/\"):\n",
    "    day1 = open(data_dir+filename).read()\n",
    "    nums = [int(i) for i in re.findall(r\"[0-9]+\", day1)]\n",
    "    \n",
    "    sol = []\n",
    "    for num1 in nums[:-2]:\n",
    "        for num2 in nums[1:]:\n",
    "            if 2020-num1-num2 in nums:\n",
    "                sol.append([num1, num2, 2020-num1-num2])\n",
    "    print(sol)\n",
    "    sol=sol[0]\n",
    "    print(f\"Three numbers that sum to 2020 are {sol[0]}, {sol[1]} and {sol[2]}. Their product is {sol[0]*sol[1]*sol[2]}\")\n",
    "solve_day1_part2(filename=\"day1_test.txt\")\n",
    "    \n"
   ]
  },
  {
   "cell_type": "code",
   "execution_count": 48,
   "metadata": {
    "ExecuteTime": {
     "end_time": "2021-01-09T03:52:12.730708Z",
     "start_time": "2021-01-09T03:52:06.799666Z"
    }
   },
   "outputs": [
    {
     "name": "stdout",
     "output_type": "stream",
     "text": [
      "6.28 µs ± 189 ns per loop (mean ± std. dev. of 7 runs, 100000 loops each)\n"
     ]
    }
   ],
   "source": [
    "# bubble sort\n",
    "l1 = [2, 1, 4, 3, 5, 0]\n",
    "s1=l1.copy()\n",
    "def sort(l1):\n",
    "    for i in range(len(l1)-1):\n",
    "        for j in range(len(l1)-i-1):\n",
    "            if l1[j]>l1[j+1]:\n",
    "                l1[j], l1[j+1] = l1[j+1], l1[j]\n",
    "    return l1\n",
    "%timeit sort(l1)"
   ]
  },
  {
   "cell_type": "code",
   "execution_count": 49,
   "metadata": {
    "ExecuteTime": {
     "end_time": "2021-01-09T03:52:39.785094Z",
     "start_time": "2021-01-09T03:52:37.931857Z"
    }
   },
   "outputs": [
    {
     "name": "stdout",
     "output_type": "stream",
     "text": [
      "210 ns ± 5.38 ns per loop (mean ± std. dev. of 7 runs, 1000000 loops each)\n"
     ]
    }
   ],
   "source": [
    "%timeit s1.sort()"
   ]
  },
  {
   "cell_type": "code",
   "execution_count": 51,
   "metadata": {
    "ExecuteTime": {
     "end_time": "2021-01-09T03:56:41.564862Z",
     "start_time": "2021-01-09T03:56:38.512601Z"
    }
   },
   "outputs": [],
   "source": [
    "import numpy as np"
   ]
  },
  {
   "cell_type": "code",
   "execution_count": 52,
   "metadata": {
    "ExecuteTime": {
     "end_time": "2021-01-09T03:56:49.658698Z",
     "start_time": "2021-01-09T03:56:47.517269Z"
    }
   },
   "outputs": [
    {
     "name": "stdout",
     "output_type": "stream",
     "text": [
      "260 ns ± 7.43 ns per loop (mean ± std. dev. of 7 runs, 1000000 loops each)\n"
     ]
    }
   ],
   "source": [
    "%timeit sum(s1)"
   ]
  },
  {
   "cell_type": "code",
   "execution_count": 54,
   "metadata": {
    "ExecuteTime": {
     "end_time": "2021-01-09T03:57:16.048067Z",
     "start_time": "2021-01-09T03:57:11.615109Z"
    }
   },
   "outputs": [
    {
     "name": "stdout",
     "output_type": "stream",
     "text": [
      "5.42 µs ± 128 ns per loop (mean ± std. dev. of 7 runs, 100000 loops each)\n"
     ]
    }
   ],
   "source": [
    "a = np.array(s1)\n",
    "%timeit a.sum()"
   ]
  },
  {
   "cell_type": "markdown",
   "metadata": {},
   "source": [
    "* Frecodecampe\n",
    "* Coursera\n",
    "* Advent of Code: Day 2\n",
    "* "
   ]
  }
 ],
 "metadata": {
  "kernelspec": {
   "display_name": "Python 3",
   "language": "python",
   "name": "python3"
  },
  "language_info": {
   "codemirror_mode": {
    "name": "ipython",
    "version": 3
   },
   "file_extension": ".py",
   "mimetype": "text/x-python",
   "name": "python",
   "nbconvert_exporter": "python",
   "pygments_lexer": "ipython3",
   "version": "3.7.3"
  },
  "latex_envs": {
   "LaTeX_envs_menu_present": true,
   "autoclose": false,
   "autocomplete": true,
   "bibliofile": "biblio.bib",
   "cite_by": "apalike",
   "current_citInitial": 1,
   "eqLabelWithNumbers": true,
   "eqNumInitial": 1,
   "hotkeys": {
    "equation": "Ctrl-E",
    "itemize": "Ctrl-I"
   },
   "labels_anchors": false,
   "latex_user_defs": false,
   "report_style_numbering": false,
   "user_envs_cfg": false
  }
 },
 "nbformat": 4,
 "nbformat_minor": 2
}
